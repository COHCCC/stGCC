{
 "cells": [
  {
   "cell_type": "markdown",
   "metadata": {},
   "source": [
    "## Read in data\n",
    "In this tutorial, it required three input data:\n",
    "\n",
    "1. \"resnet_array.npy\": a matrix of image features for each spot that extract from ResNet50\n",
    "2. \"filtered_feature_bc_matrix.h5\": The gene expression matrix\n",
    "3. \"tissue_positions_list.csv\": Spatial coordinateds \n",
    "4. \"image\" folder: contains cropped image for each spot\n",
    "\n",
    "The gene expreesion data can be stored as an AnnData object. AnnData stores a data matrix .X together with annotations of observations .obs and variables .var \n",
    "\n",
    "The files \"resnet_array.npy\", \"tissue_positions_list.csv\" will be utilized in the adjacency matrix module, while the file \"filtered_feature_bc_matrix.h5\" will be used in the feature matrix module."
   ]
  },
  {
   "cell_type": "code",
   "execution_count": 1,
   "metadata": {},
   "outputs": [
    {
     "data": {
      "text/plain": [
       "3594"
      ]
     },
     "execution_count": 1,
     "metadata": {},
     "output_type": "execute_result"
    }
   ],
   "source": [
    "import pandas as pd\n",
    "import numpy as np\n",
    "import os\n",
    "import re\n",
    "import sys\n",
    "import fileinput\n",
    "\n",
    "\n",
    "path = \"/Users/ninasong/Desktop/spatialProject/literature_model/graph_convolutional_clustering/unsupervised-GCN/FFD1\"\n",
    "\n",
    "array = np.load((os.path.join(path, \"resnet_array.npy\")))\n",
    "len(array)\n",
    "# resnet_feature_matrix = pd.read_csv('spatialDataset/10xDemo/mouse_brain/annotation/top10_resetnet_feature.csv', sep=',')"
   ]
  },
  {
   "cell_type": "markdown",
   "metadata": {},
   "source": [
    "# Adjcency matrix"
   ]
  },
  {
   "cell_type": "markdown",
   "metadata": {},
   "source": [
    "To prepare the adjacency matrix, the features for each spot will consist of the top 2 principal components from Resnet analysis, which have been subject to standard scale normalization. Additionally, two position features will be included for each spot, which will be normalized using min-max normalization. The cosine distance will be calculated between spots, and if the distance is negative, it will be set to zero."
   ]
  },
  {
   "cell_type": "markdown",
   "metadata": {},
   "source": [
    "\"resnet_array.npy\" contains 2048 features per spot, and principal component analysis will be conducted to extract the top two PCs."
   ]
  },
  {
   "cell_type": "code",
   "execution_count": 2,
   "metadata": {},
   "outputs": [],
   "source": [
    "from sklearn.preprocessing import StandardScaler\n",
    "\n",
    "# assume X is a matrix of size (n_samples, n_features)\n",
    "scaler = StandardScaler()\n",
    "array_normalized = scaler.fit_transform(array)"
   ]
  },
  {
   "cell_type": "code",
   "execution_count": 3,
   "metadata": {},
   "outputs": [],
   "source": [
    "from sklearn.decomposition import PCA\n",
    "\n",
    "pca = PCA(n_components=2)\n",
    "resne_fea = pca.fit_transform(array_normalized)\n",
    "top2_resnet = pd.DataFrame(resne_fea)\n",
    "\n",
    "top2_resnet.to_csv((os.path.join(path, \"annotation\", \"top2_resetnet_feature.csv\")), index=False)"
   ]
  },
  {
   "cell_type": "code",
   "execution_count": 4,
   "metadata": {},
   "outputs": [
    {
     "data": {
      "text/html": [
       "<div>\n",
       "<style scoped>\n",
       "    .dataframe tbody tr th:only-of-type {\n",
       "        vertical-align: middle;\n",
       "    }\n",
       "\n",
       "    .dataframe tbody tr th {\n",
       "        vertical-align: top;\n",
       "    }\n",
       "\n",
       "    .dataframe thead th {\n",
       "        text-align: right;\n",
       "    }\n",
       "</style>\n",
       "<table border=\"1\" class=\"dataframe\">\n",
       "  <thead>\n",
       "    <tr style=\"text-align: right;\">\n",
       "      <th></th>\n",
       "      <th>0</th>\n",
       "      <th>1</th>\n",
       "    </tr>\n",
       "  </thead>\n",
       "  <tbody>\n",
       "    <tr>\n",
       "      <th>0</th>\n",
       "      <td>-1.245953</td>\n",
       "      <td>1.653044</td>\n",
       "    </tr>\n",
       "    <tr>\n",
       "      <th>1</th>\n",
       "      <td>-6.737771</td>\n",
       "      <td>3.163059</td>\n",
       "    </tr>\n",
       "    <tr>\n",
       "      <th>2</th>\n",
       "      <td>6.125465</td>\n",
       "      <td>-8.245798</td>\n",
       "    </tr>\n",
       "  </tbody>\n",
       "</table>\n",
       "</div>"
      ],
      "text/plain": [
       "          0         1\n",
       "0 -1.245953  1.653044\n",
       "1 -6.737771  3.163059\n",
       "2  6.125465 -8.245798"
      ]
     },
     "execution_count": 4,
     "metadata": {},
     "output_type": "execute_result"
    }
   ],
   "source": [
    "top2_resnet.head(3)"
   ]
  },
  {
   "cell_type": "markdown",
   "metadata": {},
   "source": [
    "The concatenation of spatial coordinates (image IDs) with the top 2 ResNet features to create a combined feature matrix"
   ]
  },
  {
   "cell_type": "code",
   "execution_count": 5,
   "metadata": {},
   "outputs": [],
   "source": [
    "img_ids_list = np.load(os.path.join(path, \"annotation\", \"img_ids_list.npy\"))\n",
    "n = np.zeros((len(img_ids_list), 2))\n",
    "i = 0\n",
    "j = 0\n",
    "\n",
    "for vector in img_ids_list:\n",
    "  x = int(vector.split('-')[0])\n",
    "  y = int(vector.split('-')[1])\n",
    "  n[i][0]=y\n",
    "  n[i][1]=x\n",
    "  i = i + 1\n",
    "\n",
    "image_ids = pd.DataFrame(n)\n",
    "resnet_feature_matrix_combined = pd.concat([image_ids, top2_resnet], axis=1, ignore_index=True)\n",
    "resnet_feature_matrix_combined.rename(columns={0:'imagerow', 1:'imagecol', 2:'I1', 3:\"I2\"}, inplace=True )"
   ]
  },
  {
   "cell_type": "code",
   "execution_count": 6,
   "metadata": {},
   "outputs": [
    {
     "data": {
      "text/html": [
       "<div>\n",
       "<style scoped>\n",
       "    .dataframe tbody tr th:only-of-type {\n",
       "        vertical-align: middle;\n",
       "    }\n",
       "\n",
       "    .dataframe tbody tr th {\n",
       "        vertical-align: top;\n",
       "    }\n",
       "\n",
       "    .dataframe thead th {\n",
       "        text-align: right;\n",
       "    }\n",
       "</style>\n",
       "<table border=\"1\" class=\"dataframe\">\n",
       "  <thead>\n",
       "    <tr style=\"text-align: right;\">\n",
       "      <th></th>\n",
       "      <th>imagerow</th>\n",
       "      <th>imagecol</th>\n",
       "      <th>I1</th>\n",
       "      <th>I2</th>\n",
       "    </tr>\n",
       "  </thead>\n",
       "  <tbody>\n",
       "    <tr>\n",
       "      <th>0</th>\n",
       "      <td>6740.0</td>\n",
       "      <td>3781.0</td>\n",
       "      <td>-1.245953</td>\n",
       "      <td>1.653044</td>\n",
       "    </tr>\n",
       "    <tr>\n",
       "      <th>1</th>\n",
       "      <td>3259.0</td>\n",
       "      <td>2595.0</td>\n",
       "      <td>-6.737771</td>\n",
       "      <td>3.163059</td>\n",
       "    </tr>\n",
       "    <tr>\n",
       "      <th>2</th>\n",
       "      <td>7452.0</td>\n",
       "      <td>5843.0</td>\n",
       "      <td>6.125465</td>\n",
       "      <td>-8.245798</td>\n",
       "    </tr>\n",
       "  </tbody>\n",
       "</table>\n",
       "</div>"
      ],
      "text/plain": [
       "   imagerow  imagecol        I1        I2\n",
       "0    6740.0    3781.0 -1.245953  1.653044\n",
       "1    3259.0    2595.0 -6.737771  3.163059\n",
       "2    7452.0    5843.0  6.125465 -8.245798"
      ]
     },
     "execution_count": 6,
     "metadata": {},
     "output_type": "execute_result"
    }
   ],
   "source": [
    "resnet_feature_matrix_combined.head(3)"
   ]
  },
  {
   "cell_type": "markdown",
   "metadata": {},
   "source": [
    "Subsequently, the corresponding barcode of each spot will be added to the previously generated matrix."
   ]
  },
  {
   "cell_type": "code",
   "execution_count": 7,
   "metadata": {},
   "outputs": [
    {
     "data": {
      "text/html": [
       "<div>\n",
       "<style scoped>\n",
       "    .dataframe tbody tr th:only-of-type {\n",
       "        vertical-align: middle;\n",
       "    }\n",
       "\n",
       "    .dataframe tbody tr th {\n",
       "        vertical-align: top;\n",
       "    }\n",
       "\n",
       "    .dataframe thead th {\n",
       "        text-align: right;\n",
       "    }\n",
       "</style>\n",
       "<table border=\"1\" class=\"dataframe\">\n",
       "  <thead>\n",
       "    <tr style=\"text-align: right;\">\n",
       "      <th></th>\n",
       "      <th>barcode</th>\n",
       "      <th>imagerow</th>\n",
       "      <th>imagecol</th>\n",
       "      <th>I1</th>\n",
       "      <th>I2</th>\n",
       "    </tr>\n",
       "  </thead>\n",
       "  <tbody>\n",
       "    <tr>\n",
       "      <th>0</th>\n",
       "      <td>TAAGTAAATGTGCCGC-1</td>\n",
       "      <td>1610</td>\n",
       "      <td>6713</td>\n",
       "      <td>40.765457</td>\n",
       "      <td>23.894720</td>\n",
       "    </tr>\n",
       "    <tr>\n",
       "      <th>1</th>\n",
       "      <td>TGGCACGAGCTCGAGT-1</td>\n",
       "      <td>1609</td>\n",
       "      <td>6831</td>\n",
       "      <td>-3.993147</td>\n",
       "      <td>5.881485</td>\n",
       "    </tr>\n",
       "    <tr>\n",
       "      <th>2</th>\n",
       "      <td>ACCGGTCTGAGTACGG-1</td>\n",
       "      <td>1507</td>\n",
       "      <td>6889</td>\n",
       "      <td>158.223419</td>\n",
       "      <td>61.760967</td>\n",
       "    </tr>\n",
       "    <tr>\n",
       "      <th>3</th>\n",
       "      <td>GAACTTAGCGCCCGGT-1</td>\n",
       "      <td>1609</td>\n",
       "      <td>6948</td>\n",
       "      <td>-2.171487</td>\n",
       "      <td>-5.103039</td>\n",
       "    </tr>\n",
       "    <tr>\n",
       "      <th>4</th>\n",
       "      <td>AGTAGCTAGACGCCGA-1</td>\n",
       "      <td>1507</td>\n",
       "      <td>7007</td>\n",
       "      <td>18.478373</td>\n",
       "      <td>11.932409</td>\n",
       "    </tr>\n",
       "  </tbody>\n",
       "</table>\n",
       "</div>"
      ],
      "text/plain": [
       "              barcode  imagerow  imagecol          I1         I2\n",
       "0  TAAGTAAATGTGCCGC-1      1610      6713   40.765457  23.894720\n",
       "1  TGGCACGAGCTCGAGT-1      1609      6831   -3.993147   5.881485\n",
       "2  ACCGGTCTGAGTACGG-1      1507      6889  158.223419  61.760967\n",
       "3  GAACTTAGCGCCCGGT-1      1609      6948   -2.171487  -5.103039\n",
       "4  AGTAGCTAGACGCCGA-1      1507      7007   18.478373  11.932409"
      ]
     },
     "execution_count": 7,
     "metadata": {},
     "output_type": "execute_result"
    }
   ],
   "source": [
    "tissue_position = pd.read_csv((os.path.join(path, \"spatial\", \"tissue_positions_list.csv\")), sep=',', names=[\"barcode\", \"tissue\", \"row\", \"col\",\"imagerow\", \"imagecol\"])\n",
    "combined_feature_matirx = pd.merge(tissue_position, resnet_feature_matrix_combined, how = \"inner\", on = ['imagerow', 'imagecol'])\n",
    "adj_feature = combined_feature_matirx.drop([\"tissue\", \"row\", \"col\"], axis=1)\n",
    "adj_feature.to_csv(os.path.join(path, \"annotation\", \"adj_feature_matrix.csv\"), index=False)\n",
    "\n",
    "adj_feature.head(5)"
   ]
  },
  {
   "cell_type": "markdown",
   "metadata": {},
   "source": [
    "The spatial coordinates were normalized using min-max normalization."
   ]
  },
  {
   "cell_type": "code",
   "execution_count": 8,
   "metadata": {},
   "outputs": [
    {
     "data": {
      "text/html": [
       "<div>\n",
       "<style scoped>\n",
       "    .dataframe tbody tr th:only-of-type {\n",
       "        vertical-align: middle;\n",
       "    }\n",
       "\n",
       "    .dataframe tbody tr th {\n",
       "        vertical-align: top;\n",
       "    }\n",
       "\n",
       "    .dataframe thead th {\n",
       "        text-align: right;\n",
       "    }\n",
       "</style>\n",
       "<table border=\"1\" class=\"dataframe\">\n",
       "  <thead>\n",
       "    <tr style=\"text-align: right;\">\n",
       "      <th></th>\n",
       "      <th>barcode</th>\n",
       "      <th>imagerow</th>\n",
       "      <th>imagecol</th>\n",
       "      <th>I1</th>\n",
       "      <th>I2</th>\n",
       "    </tr>\n",
       "  </thead>\n",
       "  <tbody>\n",
       "    <tr>\n",
       "      <th>0</th>\n",
       "      <td>TAAGTAAATGTGCCGC-1</td>\n",
       "      <td>0.014214</td>\n",
       "      <td>0.762694</td>\n",
       "      <td>40.765457</td>\n",
       "      <td>23.894720</td>\n",
       "    </tr>\n",
       "    <tr>\n",
       "      <th>1</th>\n",
       "      <td>TGGCACGAGCTCGAGT-1</td>\n",
       "      <td>0.014079</td>\n",
       "      <td>0.778461</td>\n",
       "      <td>-3.993147</td>\n",
       "      <td>5.881485</td>\n",
       "    </tr>\n",
       "    <tr>\n",
       "      <th>2</th>\n",
       "      <td>ACCGGTCTGAGTACGG-1</td>\n",
       "      <td>0.000271</td>\n",
       "      <td>0.786211</td>\n",
       "      <td>158.223419</td>\n",
       "      <td>61.760967</td>\n",
       "    </tr>\n",
       "    <tr>\n",
       "      <th>3</th>\n",
       "      <td>GAACTTAGCGCCCGGT-1</td>\n",
       "      <td>0.014079</td>\n",
       "      <td>0.794094</td>\n",
       "      <td>-2.171487</td>\n",
       "      <td>-5.103039</td>\n",
       "    </tr>\n",
       "    <tr>\n",
       "      <th>4</th>\n",
       "      <td>AGTAGCTAGACGCCGA-1</td>\n",
       "      <td>0.000271</td>\n",
       "      <td>0.801978</td>\n",
       "      <td>18.478373</td>\n",
       "      <td>11.932409</td>\n",
       "    </tr>\n",
       "    <tr>\n",
       "      <th>...</th>\n",
       "      <td>...</td>\n",
       "      <td>...</td>\n",
       "      <td>...</td>\n",
       "      <td>...</td>\n",
       "      <td>...</td>\n",
       "    </tr>\n",
       "    <tr>\n",
       "      <th>3589</th>\n",
       "      <td>ACAAACTCCATCAGAG-1</td>\n",
       "      <td>1.000000</td>\n",
       "      <td>0.316542</td>\n",
       "      <td>23.338575</td>\n",
       "      <td>12.756892</td>\n",
       "    </tr>\n",
       "    <tr>\n",
       "      <th>3590</th>\n",
       "      <td>TTGCGGAAAGCTGCCC-1</td>\n",
       "      <td>1.000000</td>\n",
       "      <td>0.332309</td>\n",
       "      <td>-4.329419</td>\n",
       "      <td>6.258057</td>\n",
       "    </tr>\n",
       "    <tr>\n",
       "      <th>3591</th>\n",
       "      <td>GGTTACCGCTCCCTAC-1</td>\n",
       "      <td>1.000000</td>\n",
       "      <td>0.347942</td>\n",
       "      <td>7.905270</td>\n",
       "      <td>19.481718</td>\n",
       "    </tr>\n",
       "    <tr>\n",
       "      <th>3592</th>\n",
       "      <td>CCGTTTCCTTTCCGTG-1</td>\n",
       "      <td>0.999865</td>\n",
       "      <td>0.363709</td>\n",
       "      <td>43.023933</td>\n",
       "      <td>41.408123</td>\n",
       "    </tr>\n",
       "    <tr>\n",
       "      <th>3593</th>\n",
       "      <td>CAAGTCGTTGAAATCT-1</td>\n",
       "      <td>0.999865</td>\n",
       "      <td>0.379476</td>\n",
       "      <td>60.758156</td>\n",
       "      <td>57.225910</td>\n",
       "    </tr>\n",
       "  </tbody>\n",
       "</table>\n",
       "<p>3594 rows × 5 columns</p>\n",
       "</div>"
      ],
      "text/plain": [
       "                 barcode  imagerow  imagecol          I1         I2\n",
       "0     TAAGTAAATGTGCCGC-1  0.014214  0.762694   40.765457  23.894720\n",
       "1     TGGCACGAGCTCGAGT-1  0.014079  0.778461   -3.993147   5.881485\n",
       "2     ACCGGTCTGAGTACGG-1  0.000271  0.786211  158.223419  61.760967\n",
       "3     GAACTTAGCGCCCGGT-1  0.014079  0.794094   -2.171487  -5.103039\n",
       "4     AGTAGCTAGACGCCGA-1  0.000271  0.801978   18.478373  11.932409\n",
       "...                  ...       ...       ...         ...        ...\n",
       "3589  ACAAACTCCATCAGAG-1  1.000000  0.316542   23.338575  12.756892\n",
       "3590  TTGCGGAAAGCTGCCC-1  1.000000  0.332309   -4.329419   6.258057\n",
       "3591  GGTTACCGCTCCCTAC-1  1.000000  0.347942    7.905270  19.481718\n",
       "3592  CCGTTTCCTTTCCGTG-1  0.999865  0.363709   43.023933  41.408123\n",
       "3593  CAAGTCGTTGAAATCT-1  0.999865  0.379476   60.758156  57.225910\n",
       "\n",
       "[3594 rows x 5 columns]"
      ]
     },
     "metadata": {},
     "output_type": "display_data"
    }
   ],
   "source": [
    "adj_feature_scaled = adj_feature.copy()\n",
    "\n",
    "adj_feature_scaled[\"imagerow\"] = (adj_feature_scaled[\"imagerow\"] - \n",
    "                            adj_feature_scaled[\"imagerow\"].min()) / (adj_feature_scaled[\"imagerow\"].max() - adj_feature_scaled[\"imagerow\"].min())    \n",
    "adj_feature_scaled[\"imagecol\"] = (adj_feature_scaled[\"imagecol\"] - \n",
    "                            adj_feature_scaled[\"imagecol\"].min()) / (adj_feature_scaled[\"imagecol\"].max() - adj_feature_scaled[\"imagecol\"].min())    \n",
    "\n",
    "# view normalized data\n",
    "display(adj_feature_scaled)"
   ]
  },
  {
   "cell_type": "markdown",
   "metadata": {},
   "source": [
    "The adjacency matrix will be constructed using the cosine distance between the combined features of each node (spot). It is necessary to set the diagonal of the adjacency matrix to zero."
   ]
  },
  {
   "cell_type": "code",
   "execution_count": 9,
   "metadata": {},
   "outputs": [],
   "source": [
    "from sklearn.metrics import pairwise_distances\n",
    "\n",
    "md = 1 - pairwise_distances(adj_feature_scaled.iloc[:,1:], metric=\"cosine\")\n",
    "md[md<0] = 0\n",
    "\n",
    "#set the diagonal of the adjacency matrix to zero\n",
    "adj = md - np.eye(len(md))\n",
    "np.savetxt((os.path.join(path, \"annotation\", \"adj.csv\")), adj, delimiter=',')"
   ]
  },
  {
   "cell_type": "code",
   "execution_count": 10,
   "metadata": {},
   "outputs": [
    {
     "data": {
      "text/html": [
       "<div>\n",
       "<style scoped>\n",
       "    .dataframe tbody tr th:only-of-type {\n",
       "        vertical-align: middle;\n",
       "    }\n",
       "\n",
       "    .dataframe tbody tr th {\n",
       "        vertical-align: top;\n",
       "    }\n",
       "\n",
       "    .dataframe thead th {\n",
       "        text-align: right;\n",
       "    }\n",
       "</style>\n",
       "<table border=\"1\" class=\"dataframe\">\n",
       "  <thead>\n",
       "    <tr style=\"text-align: right;\">\n",
       "      <th></th>\n",
       "      <th>0</th>\n",
       "      <th>1</th>\n",
       "      <th>2</th>\n",
       "      <th>3</th>\n",
       "      <th>4</th>\n",
       "      <th>5</th>\n",
       "      <th>6</th>\n",
       "      <th>7</th>\n",
       "      <th>8</th>\n",
       "      <th>9</th>\n",
       "      <th>...</th>\n",
       "      <th>3584</th>\n",
       "      <th>3585</th>\n",
       "      <th>3586</th>\n",
       "      <th>3587</th>\n",
       "      <th>3588</th>\n",
       "      <th>3589</th>\n",
       "      <th>3590</th>\n",
       "      <th>3591</th>\n",
       "      <th>3592</th>\n",
       "      <th>3593</th>\n",
       "    </tr>\n",
       "  </thead>\n",
       "  <tbody>\n",
       "    <tr>\n",
       "      <th>0</th>\n",
       "      <td>0.000000</td>\n",
       "      <td>0.0</td>\n",
       "      <td>0.987476</td>\n",
       "      <td>0.0</td>\n",
       "      <td>0.998861</td>\n",
       "      <td>0.000000</td>\n",
       "      <td>0.967066</td>\n",
       "      <td>0.000000</td>\n",
       "      <td>0.000000</td>\n",
       "      <td>0.995778</td>\n",
       "      <td>...</td>\n",
       "      <td>0.476086</td>\n",
       "      <td>0.539576</td>\n",
       "      <td>0.445267</td>\n",
       "      <td>0.988246</td>\n",
       "      <td>0.999234</td>\n",
       "      <td>0.998848</td>\n",
       "      <td>0.000000</td>\n",
       "      <td>0.792135</td>\n",
       "      <td>0.972083</td>\n",
       "      <td>0.974598</td>\n",
       "    </tr>\n",
       "    <tr>\n",
       "      <th>1</th>\n",
       "      <td>0.000000</td>\n",
       "      <td>0.0</td>\n",
       "      <td>0.000000</td>\n",
       "      <td>0.0</td>\n",
       "      <td>0.000000</td>\n",
       "      <td>0.000000</td>\n",
       "      <td>0.191477</td>\n",
       "      <td>0.850436</td>\n",
       "      <td>0.725241</td>\n",
       "      <td>0.000000</td>\n",
       "      <td>...</td>\n",
       "      <td>0.000000</td>\n",
       "      <td>0.000000</td>\n",
       "      <td>0.697695</td>\n",
       "      <td>0.000000</td>\n",
       "      <td>0.000000</td>\n",
       "      <td>0.000000</td>\n",
       "      <td>0.989587</td>\n",
       "      <td>0.553314</td>\n",
       "      <td>0.168665</td>\n",
       "      <td>0.157916</td>\n",
       "    </tr>\n",
       "    <tr>\n",
       "      <th>2</th>\n",
       "      <td>0.987476</td>\n",
       "      <td>0.0</td>\n",
       "      <td>0.000000</td>\n",
       "      <td>0.0</td>\n",
       "      <td>0.979329</td>\n",
       "      <td>0.000000</td>\n",
       "      <td>0.914814</td>\n",
       "      <td>0.000000</td>\n",
       "      <td>0.000000</td>\n",
       "      <td>0.997616</td>\n",
       "      <td>...</td>\n",
       "      <td>0.608448</td>\n",
       "      <td>0.664024</td>\n",
       "      <td>0.325930</td>\n",
       "      <td>0.999894</td>\n",
       "      <td>0.981251</td>\n",
       "      <td>0.991083</td>\n",
       "      <td>0.000000</td>\n",
       "      <td>0.686401</td>\n",
       "      <td>0.923210</td>\n",
       "      <td>0.927364</td>\n",
       "    </tr>\n",
       "    <tr>\n",
       "      <th>3</th>\n",
       "      <td>0.000000</td>\n",
       "      <td>0.0</td>\n",
       "      <td>0.000000</td>\n",
       "      <td>0.0</td>\n",
       "      <td>0.000000</td>\n",
       "      <td>0.971088</td>\n",
       "      <td>0.000000</td>\n",
       "      <td>0.000000</td>\n",
       "      <td>0.197545</td>\n",
       "      <td>0.000000</td>\n",
       "      <td>...</td>\n",
       "      <td>0.141506</td>\n",
       "      <td>0.071140</td>\n",
       "      <td>0.000000</td>\n",
       "      <td>0.000000</td>\n",
       "      <td>0.000000</td>\n",
       "      <td>0.000000</td>\n",
       "      <td>0.000000</td>\n",
       "      <td>0.000000</td>\n",
       "      <td>0.000000</td>\n",
       "      <td>0.000000</td>\n",
       "    </tr>\n",
       "    <tr>\n",
       "      <th>4</th>\n",
       "      <td>0.998861</td>\n",
       "      <td>0.0</td>\n",
       "      <td>0.979329</td>\n",
       "      <td>0.0</td>\n",
       "      <td>0.000000</td>\n",
       "      <td>0.000000</td>\n",
       "      <td>0.977166</td>\n",
       "      <td>0.000000</td>\n",
       "      <td>0.000000</td>\n",
       "      <td>0.990850</td>\n",
       "      <td>...</td>\n",
       "      <td>0.437622</td>\n",
       "      <td>0.503522</td>\n",
       "      <td>0.479846</td>\n",
       "      <td>0.980366</td>\n",
       "      <td>0.999363</td>\n",
       "      <td>0.996323</td>\n",
       "      <td>0.000000</td>\n",
       "      <td>0.817561</td>\n",
       "      <td>0.980871</td>\n",
       "      <td>0.982900</td>\n",
       "    </tr>\n",
       "  </tbody>\n",
       "</table>\n",
       "<p>5 rows × 3594 columns</p>\n",
       "</div>"
      ],
      "text/plain": [
       "       0     1         2     3         4         5         6         7     \\\n",
       "0  0.000000   0.0  0.987476   0.0  0.998861  0.000000  0.967066  0.000000   \n",
       "1  0.000000   0.0  0.000000   0.0  0.000000  0.000000  0.191477  0.850436   \n",
       "2  0.987476   0.0  0.000000   0.0  0.979329  0.000000  0.914814  0.000000   \n",
       "3  0.000000   0.0  0.000000   0.0  0.000000  0.971088  0.000000  0.000000   \n",
       "4  0.998861   0.0  0.979329   0.0  0.000000  0.000000  0.977166  0.000000   \n",
       "\n",
       "       8         9     ...      3584      3585      3586      3587      3588  \\\n",
       "0  0.000000  0.995778  ...  0.476086  0.539576  0.445267  0.988246  0.999234   \n",
       "1  0.725241  0.000000  ...  0.000000  0.000000  0.697695  0.000000  0.000000   \n",
       "2  0.000000  0.997616  ...  0.608448  0.664024  0.325930  0.999894  0.981251   \n",
       "3  0.197545  0.000000  ...  0.141506  0.071140  0.000000  0.000000  0.000000   \n",
       "4  0.000000  0.990850  ...  0.437622  0.503522  0.479846  0.980366  0.999363   \n",
       "\n",
       "       3589      3590      3591      3592      3593  \n",
       "0  0.998848  0.000000  0.792135  0.972083  0.974598  \n",
       "1  0.000000  0.989587  0.553314  0.168665  0.157916  \n",
       "2  0.991083  0.000000  0.686401  0.923210  0.927364  \n",
       "3  0.000000  0.000000  0.000000  0.000000  0.000000  \n",
       "4  0.996323  0.000000  0.817561  0.980871  0.982900  \n",
       "\n",
       "[5 rows x 3594 columns]"
      ]
     },
     "execution_count": 10,
     "metadata": {},
     "output_type": "execute_result"
    }
   ],
   "source": [
    "adj = pd.DataFrame(adj)\n",
    "adj.head(5)"
   ]
  },
  {
   "cell_type": "markdown",
   "metadata": {},
   "source": [
    "# Feature Matirx"
   ]
  },
  {
   "cell_type": "code",
   "execution_count": 24,
   "metadata": {},
   "outputs": [
    {
     "name": "stderr",
     "output_type": "stream",
     "text": [
      "/Users/ninasong/opt/anaconda3/envs/gnn_git/lib/python3.10/site-packages/anndata/_core/anndata.py:1830: UserWarning: Variable names are not unique. To make them unique, call `.var_names_make_unique`.\n",
      "  utils.warn_names_duplicates(\"var\")\n"
     ]
    }
   ],
   "source": [
    "#Read original 10x_h5 data and save it to h5ad\n",
    "import scanpy as sc\n",
    "from scanpy import read_10x_h5\n",
    "adata = read_10x_h5(os.path.join(path, \"filtered_feature_bc_matrix.h5\"))\n",
    "adata.var_names_make_unique()\n",
    "spatial=pd.read_csv(os.path.join(path, \"spatial\", \"tissue_positions_list.csv\"), sep=\",\", header=None, na_filter=False,index_col=0) \n",
    "adata.obs[\"x1\"]=spatial[1]\n",
    "\n",
    "#Select captured samples\n",
    "adata=adata[adata.obs[\"x1\"]==1]\n",
    "adata.var_names=[i.upper() for i in list(adata.var_names)]\n",
    "adata.var[\"genename\"]=adata.var.index.astype(\"str\")\n",
    "adata.write_h5ad(os.path.join(path, \"FFD1.h5ad\"))\n",
    "\n",
    "#Read in gene expression and spatial location\n",
    "adata=sc.read(os.path.join(path, \"FFD1.h5ad\"))"
   ]
  },
  {
   "cell_type": "markdown",
   "metadata": {},
   "source": [
    "The gene expression matrix for each barcode is contained within adata.X. To prepare this data for node feature generation, normalization and log-transformation will be performed."
   ]
  },
  {
   "cell_type": "code",
   "execution_count": 25,
   "metadata": {},
   "outputs": [
    {
     "data": {
      "text/plain": [
       "(3594, 33538)"
      ]
     },
     "execution_count": 25,
     "metadata": {},
     "output_type": "execute_result"
    }
   ],
   "source": [
    "adata.X.shape"
   ]
  },
  {
   "cell_type": "code",
   "execution_count": 26,
   "metadata": {},
   "outputs": [],
   "source": [
    "# Perform normalization\n",
    "sc.pp.normalize_total(adata, target_sum=1e4)\n",
    "# Log-transform the data\n",
    "sc.pp.log1p(adata)"
   ]
  },
  {
   "cell_type": "code",
   "execution_count": 29,
   "metadata": {},
   "outputs": [
    {
     "data": {
      "text/plain": [
       "Index(['AAACAAGTATCTCCCA-1', 'AAACACCAATAACTGC-1', 'AAACAGAGCGACTCCT-1',\n",
       "       'AAACAGCTTTCAGAAG-1', 'AAACAGGGTCTATATT-1', 'AAACAGTGTTCCTGGG-1',\n",
       "       'AAACATTTCCCGGATT-1', 'AAACCCGAACGAAATC-1', 'AAACCGGGTAGGTACC-1',\n",
       "       'AAACCGTTCGTCCAGG-1',\n",
       "       ...\n",
       "       'TTGTGTATGCCACCAA-1', 'TTGTGTTTCCCGAAAG-1', 'TTGTTAGCAAATTCGA-1',\n",
       "       'TTGTTCAGTGTGCTAC-1', 'TTGTTCTAGATACGCT-1', 'TTGTTGTGTGTCAAGA-1',\n",
       "       'TTGTTTCACATCCAGG-1', 'TTGTTTCATTAGTCTA-1', 'TTGTTTCCATACAACT-1',\n",
       "       'TTGTTTGTATTACACG-1'],\n",
       "      dtype='object', length=3594)"
      ]
     },
     "execution_count": 29,
     "metadata": {},
     "output_type": "execute_result"
    }
   ],
   "source": [
    "df.index"
   ]
  },
  {
   "cell_type": "markdown",
   "metadata": {},
   "source": [
    "For gene expression data, we will take the top 10 principal components."
   ]
  },
  {
   "cell_type": "code",
   "execution_count": 41,
   "metadata": {},
   "outputs": [],
   "source": [
    "df = adata.to_df()\n",
    "df.head(5)\n",
    "\n",
    "pca = PCA(n_components=10)\n",
    "embed = pca.fit_transform(df)\n",
    "\n",
    "exp_emb = pd.DataFrame(embed)\n",
    "exp_emb['barcode'] = df.index\n",
    "barcode = exp_emb[\"barcode\"]\n",
    "exp_emb = exp_emb.drop(columns=['barcode'])\n",
    "exp_emb.insert(loc=0, column='barcode', value=barcode)"
   ]
  },
  {
   "cell_type": "markdown",
   "metadata": {},
   "source": [
    "The feature matrix was composed of the top 2 principal components of image features and the top 10 principal components of the gene expression matrix. These two matrices were meticulously aligned using the respective barcodes before being combined."
   ]
  },
  {
   "cell_type": "code",
   "execution_count": 42,
   "metadata": {},
   "outputs": [
    {
     "data": {
      "text/html": [
       "<div>\n",
       "<style scoped>\n",
       "    .dataframe tbody tr th:only-of-type {\n",
       "        vertical-align: middle;\n",
       "    }\n",
       "\n",
       "    .dataframe tbody tr th {\n",
       "        vertical-align: top;\n",
       "    }\n",
       "\n",
       "    .dataframe thead th {\n",
       "        text-align: right;\n",
       "    }\n",
       "</style>\n",
       "<table border=\"1\" class=\"dataframe\">\n",
       "  <thead>\n",
       "    <tr style=\"text-align: right;\">\n",
       "      <th></th>\n",
       "      <th>barcode</th>\n",
       "      <th>I1</th>\n",
       "      <th>I2</th>\n",
       "      <th>0</th>\n",
       "      <th>1</th>\n",
       "      <th>2</th>\n",
       "      <th>3</th>\n",
       "      <th>4</th>\n",
       "      <th>5</th>\n",
       "      <th>6</th>\n",
       "      <th>7</th>\n",
       "      <th>8</th>\n",
       "      <th>9</th>\n",
       "    </tr>\n",
       "  </thead>\n",
       "  <tbody>\n",
       "    <tr>\n",
       "      <th>0</th>\n",
       "      <td>TAAGTAAATGTGCCGC-1</td>\n",
       "      <td>40.765457</td>\n",
       "      <td>23.894720</td>\n",
       "      <td>13.482821</td>\n",
       "      <td>3.819473</td>\n",
       "      <td>-2.406713</td>\n",
       "      <td>2.461850</td>\n",
       "      <td>2.822149</td>\n",
       "      <td>0.766574</td>\n",
       "      <td>1.429338</td>\n",
       "      <td>0.685947</td>\n",
       "      <td>-1.462653</td>\n",
       "      <td>-3.310129</td>\n",
       "    </tr>\n",
       "    <tr>\n",
       "      <th>1</th>\n",
       "      <td>TGGCACGAGCTCGAGT-1</td>\n",
       "      <td>-3.993147</td>\n",
       "      <td>5.881485</td>\n",
       "      <td>13.338982</td>\n",
       "      <td>2.251554</td>\n",
       "      <td>0.573883</td>\n",
       "      <td>0.856638</td>\n",
       "      <td>-0.965038</td>\n",
       "      <td>-0.146339</td>\n",
       "      <td>-0.396681</td>\n",
       "      <td>-1.578055</td>\n",
       "      <td>-0.792728</td>\n",
       "      <td>-3.522291</td>\n",
       "    </tr>\n",
       "    <tr>\n",
       "      <th>2</th>\n",
       "      <td>ACCGGTCTGAGTACGG-1</td>\n",
       "      <td>158.223419</td>\n",
       "      <td>61.760967</td>\n",
       "      <td>14.810644</td>\n",
       "      <td>1.708718</td>\n",
       "      <td>2.021286</td>\n",
       "      <td>-0.785960</td>\n",
       "      <td>0.158550</td>\n",
       "      <td>1.003724</td>\n",
       "      <td>1.736525</td>\n",
       "      <td>-0.027423</td>\n",
       "      <td>-1.515575</td>\n",
       "      <td>-2.939061</td>\n",
       "    </tr>\n",
       "    <tr>\n",
       "      <th>3</th>\n",
       "      <td>GAACTTAGCGCCCGGT-1</td>\n",
       "      <td>-2.171487</td>\n",
       "      <td>-5.103039</td>\n",
       "      <td>4.813560</td>\n",
       "      <td>0.737605</td>\n",
       "      <td>-3.233529</td>\n",
       "      <td>0.003260</td>\n",
       "      <td>-4.509124</td>\n",
       "      <td>0.538836</td>\n",
       "      <td>1.147582</td>\n",
       "      <td>-2.149444</td>\n",
       "      <td>-0.344673</td>\n",
       "      <td>-0.073488</td>\n",
       "    </tr>\n",
       "    <tr>\n",
       "      <th>4</th>\n",
       "      <td>AGTAGCTAGACGCCGA-1</td>\n",
       "      <td>18.478373</td>\n",
       "      <td>11.932409</td>\n",
       "      <td>12.216682</td>\n",
       "      <td>4.356026</td>\n",
       "      <td>1.892780</td>\n",
       "      <td>-0.723544</td>\n",
       "      <td>-2.442569</td>\n",
       "      <td>1.355514</td>\n",
       "      <td>-0.107893</td>\n",
       "      <td>-0.020426</td>\n",
       "      <td>-0.330318</td>\n",
       "      <td>-0.869030</td>\n",
       "    </tr>\n",
       "  </tbody>\n",
       "</table>\n",
       "</div>"
      ],
      "text/plain": [
       "              barcode          I1         I2          0         1         2  \\\n",
       "0  TAAGTAAATGTGCCGC-1   40.765457  23.894720  13.482821  3.819473 -2.406713   \n",
       "1  TGGCACGAGCTCGAGT-1   -3.993147   5.881485  13.338982  2.251554  0.573883   \n",
       "2  ACCGGTCTGAGTACGG-1  158.223419  61.760967  14.810644  1.708718  2.021286   \n",
       "3  GAACTTAGCGCCCGGT-1   -2.171487  -5.103039   4.813560  0.737605 -3.233529   \n",
       "4  AGTAGCTAGACGCCGA-1   18.478373  11.932409  12.216682  4.356026  1.892780   \n",
       "\n",
       "          3         4         5         6         7         8         9  \n",
       "0  2.461850  2.822149  0.766574  1.429338  0.685947 -1.462653 -3.310129  \n",
       "1  0.856638 -0.965038 -0.146339 -0.396681 -1.578055 -0.792728 -3.522291  \n",
       "2 -0.785960  0.158550  1.003724  1.736525 -0.027423 -1.515575 -2.939061  \n",
       "3  0.003260 -4.509124  0.538836  1.147582 -2.149444 -0.344673 -0.073488  \n",
       "4 -0.723544 -2.442569  1.355514 -0.107893 -0.020426 -0.330318 -0.869030  "
      ]
     },
     "execution_count": 42,
     "metadata": {},
     "output_type": "execute_result"
    }
   ],
   "source": [
    "node_feature_matirx = pd.merge(adj_feature, exp_emb, how = \"inner\", on = ['barcode']).drop(columns=['imagerow', 'imagecol'])\n",
    "node_feature_matirx.head(5)"
   ]
  },
  {
   "cell_type": "code",
   "execution_count": 43,
   "metadata": {},
   "outputs": [],
   "source": [
    "node_feature = node_feature_matirx.iloc[:,1:]\n",
    "np.savetxt((os.path.join(path, \"annotation\", \"node_feature.csv\")), node_feature, delimiter=',')"
   ]
  },
  {
   "cell_type": "markdown",
   "metadata": {},
   "source": [
    "# Create MATLAB data files"
   ]
  },
  {
   "cell_type": "code",
   "execution_count": 46,
   "metadata": {},
   "outputs": [],
   "source": [
    "import pandas as pd \n",
    "import numpy as np\n",
    "import scipy.sparse as sp\n",
    "import scipy\n",
    "import scipy.io as sio\n",
    "import scipy.sparse as sp\n",
    "\n",
    "def read_dataset(data):\n",
    "    #data = sio.loadmat(os.path.join('data', f'{dataset}.mat'))\n",
    "    features = data['fea'].astype(float)\n",
    "    adj = data['W']\n",
    "    adj = adj.astype(float)\n",
    "    if not sp.issparse(adj):\n",
    "        adj = sp.csc_matrix(adj)\n",
    "    if sp.issparse(features):\n",
    "        features = features.toarray()\n",
    "    labels = data['gnd'].reshape(-1) - 1\n",
    "    n_classes = len(np.unique(labels))\n",
    "    return adj, features, labels, n_classes"
   ]
  },
  {
   "cell_type": "markdown",
   "metadata": {},
   "source": [
    "Although the current unsupervised algorithm is not designed to optimize for accuracy, it still calculates accuracy as a reference metric. To avoid potential errors, we will generate random labels for the evaluation process."
   ]
  },
  {
   "cell_type": "code",
   "execution_count": 50,
   "metadata": {},
   "outputs": [
    {
     "name": "stdout",
     "output_type": "stream",
     "text": [
      "12\n",
      "(3594, 3594)\n"
     ]
    }
   ],
   "source": [
    "path = \"/Users/ninasong/Desktop/spatialProject/literature_model/graph_convolutional_clustering/unsupervised-GCN/FFD1/\"\n",
    "\n",
    "#node = np.genfromtxt((os.path.join(path, \"annotation\", \"node_feature.csv\")), delimiter=',')\n",
    "#adj = np.genfromtxt((os.path.join(path, \"annotation\", \"adj.csv\")), delimiter=',')\n",
    "\n",
    "node = node_feature\n",
    "adj = adj\n",
    "\n",
    "# generate random labels\n",
    "na_array = np.random.randint(6, size = node.shape[0])\n",
    "\n",
    "#print(\"Node features:\\n\", node_feats)\n",
    "print(node.shape[1])\n",
    "print(adj.shape)"
   ]
  },
  {
   "cell_type": "markdown",
   "metadata": {},
   "source": [
    "csr_matrix is a compressed sparse row matrix format in Python's scipy.sparse module. It is a data structure is required in this tutorial, that is used to represent large, sparse matrices efficiently, where most of the elements are zero.\n",
    "\n",
    "In a csr_matrix, the non-zero values are stored in three arrays:\n",
    "\n",
    "1. The data array, which stores the non-zero values of the matrix in row-major order.\n",
    "2. The indices array, which stores the column index of each non-zero value in the data array.\n",
    "3. The indptr array, which stores the starting and ending indices of the non-zero values for each row in the data array.\n",
    "\n",
    "Using this format, a sparse matrix can be represented efficiently in memory, and matrix operations can be performed efficiently without needing to store all the zeros in the matrix."
   ]
  },
  {
   "cell_type": "code",
   "execution_count": 51,
   "metadata": {},
   "outputs": [],
   "source": [
    "from scipy.sparse import csr_matrix\n",
    "\n",
    "adj_sparse_matrix = csr_matrix(adj)\n",
    "node_sparse_matrix = csr_matrix(node)\n",
    "na_array = np.random.randint(low = 1, high = 11, size=node.shape[0])"
   ]
  },
  {
   "cell_type": "code",
   "execution_count": 52,
   "metadata": {},
   "outputs": [],
   "source": [
    "# Define the file name for your .mat file\n",
    "filename = 'FFD1.mat'\n",
    "\n",
    "# Save the arrays to the .mat file\n",
    "scipy.io.savemat(filename, {'W': adj_sparse_matrix, 'fea': node_sparse_matrix, 'gnd': na_array})"
   ]
  },
  {
   "cell_type": "code",
   "execution_count": 53,
   "metadata": {},
   "outputs": [
    {
     "data": {
      "text/plain": [
       "{'__header__': b'MATLAB 5.0 MAT-file Platform: posix, Created on: Tue Mar 14 23:34:30 2023',\n",
       " '__version__': '1.0',\n",
       " '__globals__': [],\n",
       " 'W': <3594x3594 sparse matrix of type '<class 'numpy.float64'>'\n",
       " \twith 7535277 stored elements in Compressed Sparse Column format>,\n",
       " 'fea': <3594x12 sparse matrix of type '<class 'numpy.float64'>'\n",
       " \twith 43128 stored elements in Compressed Sparse Column format>,\n",
       " 'gnd': array([[ 8,  4, 10, ...,  6,  2,  5]])}"
      ]
     },
     "execution_count": 53,
     "metadata": {},
     "output_type": "execute_result"
    }
   ],
   "source": [
    "mat = scipy.io.loadmat(filename)\n",
    "mat"
   ]
  }
 ],
 "metadata": {
  "interpreter": {
   "hash": "776cc174f087df95b09a9a7068c58b636f6f591ba81893333d806e946ce1248d"
  },
  "kernelspec": {
   "display_name": "Python 3.10.9 64-bit ('gnn_git': conda)",
   "name": "python3"
  },
  "language_info": {
   "codemirror_mode": {
    "name": "ipython",
    "version": 3
   },
   "file_extension": ".py",
   "mimetype": "text/x-python",
   "name": "python",
   "nbconvert_exporter": "python",
   "pygments_lexer": "ipython3",
   "version": "3.10.9"
  },
  "orig_nbformat": 4
 },
 "nbformat": 4,
 "nbformat_minor": 2
}
